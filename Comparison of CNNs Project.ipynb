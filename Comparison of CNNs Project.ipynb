{
 "cells": [
  {
   "cell_type": "markdown",
   "metadata": {},
   "source": [
    "Comparison of Convolutional Neural Networks for Binary Classification of HER2 Status in Breast Cancer <br>\n",
    "m-wynes\n"
   ]
  },
  {
   "cell_type": "code",
   "execution_count": 1,
   "metadata": {},
   "outputs": [],
   "source": [
    "# Import libraries\n",
    "import torch\n",
    "import torch.nn as nn\n",
    "import os\n",
    "from PIL import Image\n",
    "from torch.utils.data import Dataset, DataLoader\n",
    "import torchvision.transforms as transforms\n",
    "import matplotlib.pyplot as plt\n",
    "import numpy as np\n",
    "from sklearn.metrics import accuracy_score, precision_score, recall_score, roc_auc_score\n",
    "from sklearn.model_selection import train_test_split\n",
    "from torch.utils.data import DataLoader, Dataset\n",
    "from torchvision import datasets, transforms\n",
    "from torch.utils.data import random_split"
   ]
  },
  {
   "cell_type": "code",
   "execution_count": 2,
   "metadata": {},
   "outputs": [],
   "source": [
    "# Define dataset\n",
    "\n",
    "class HER2ExpressionDataset(Dataset):\n",
    "    def __init__(self, img_dir, transform = None, binary = True): \n",
    "        self.img_dir = img_dir\n",
    "        self.transform = transform\n",
    "        self.binary = binary # sets binary classification\n",
    "        self.img_paths = [f for f in os.listdir(img_dir) if f.endswith(\".png\")]\n",
    "    \n",
    "    def __len__(self):\n",
    "        return len(self.img_paths)\n",
    "    \n",
    "    # parsing labels\n",
    "    def _parse_label(self, filename):\n",
    "        label_str = filename.split(\"_\")[-1].replace(\".png\", \"\")\n",
    "        \n",
    "        if self.binary: # 0 & +1 = HER2 negative, 2+ & 3+ = HER2 positive\n",
    "            if label_str in [\"0\", \"1+\"]:\n",
    "                return 0 # low HER2 expression \n",
    "            elif label_str in [\"2+\", \"3+\"]:\n",
    "                return 1 # high HER2 expression\n",
    "            else:\n",
    "                raise ValueError(f\"Unknown HER2 expression level: {label_str}\")\n",
    "        # If binary classification is false:\n",
    "        else: \n",
    "            label_map = {'0': 0, '1+': 1, '2+': 2, '3+': 3}\n",
    "            return label_map.get(label_str, -1)\n",
    "    \n",
    "    # loading each image\n",
    "    def __getitem__(self, idx):\n",
    "        img_name = self.img_paths[idx]\n",
    "        img_path = os.path.join(self.img_dir, img_name)\n",
    "        \n",
    "        image = Image.open(img_path).convert(\"RGB\")\n",
    "        label = self._parse_label(img_name)\n",
    "        \n",
    "        if self.transform:\n",
    "            image = self.transform(image)\n",
    "        \n",
    "        return image, label"
   ]
  },
  {
   "cell_type": "code",
   "execution_count": null,
   "metadata": {},
   "outputs": [],
   "source": [
    "# Training and Testing set directories\n",
    "training_directory = \"BCI_dataset/IHC/train\"\n",
    "\n",
    "testing_directory = \"BCI_dataset/IHC/test\""
   ]
  },
  {
   "cell_type": "code",
   "execution_count": 4,
   "metadata": {},
   "outputs": [
    {
     "name": "stdout",
     "output_type": "stream",
     "text": [
      "['00000_train_1+.png', '00001_train_3+.png', '00002_train_3+.png', '00003_train_1+.png', '00004_train_1+.png']\n",
      "['00000_test_1+.png', '00001_test_2+.png', '00002_test_2+.png', '00003_test_3+.png', '00004_test_0.png']\n"
     ]
    }
   ],
   "source": [
    "# Checking that the images are accessible \n",
    "print(os.listdir(training_directory)[:5])\n",
    "\n",
    "print(os.listdir(testing_directory)[:5])"
   ]
  },
  {
   "cell_type": "code",
   "execution_count": 5,
   "metadata": {},
   "outputs": [],
   "source": [
    "# Transofrm images to 299 x 299\n",
    "transform = transforms.Compose([\n",
    "    transforms.Resize((299, 299)),\n",
    "    transforms.ToTensor()\n",
    "])"
   ]
  },
  {
   "cell_type": "code",
   "execution_count": 6,
   "metadata": {},
   "outputs": [],
   "source": [
    "# Load datasets\n",
    "training_dataset = HER2ExpressionDataset(img_dir = training_directory, transform = transform, binary = True)\n",
    "\n",
    "testing_dataset = HER2ExpressionDataset(img_dir = testing_directory, transform = transform, binary = True)\n",
    "\n",
    "training_loader = DataLoader(training_dataset, batch_size=32, shuffle=True)\n",
    "\n",
    "testing_loader = DataLoader(testing_dataset, batch_size=32, shuffle=True)"
   ]
  },
  {
   "cell_type": "code",
   "execution_count": 7,
   "metadata": {},
   "outputs": [],
   "source": [
    "n_epochs = 20\n",
    "batch_size = 32"
   ]
  },
  {
   "cell_type": "code",
   "execution_count": 8,
   "metadata": {},
   "outputs": [],
   "source": [
    "device = torch.device(\"cuda\" if torch.cuda.is_available() else \"cpu\")"
   ]
  },
  {
   "cell_type": "code",
   "execution_count": null,
   "metadata": {},
   "outputs": [
    {
     "name": "stdout",
     "output_type": "stream",
     "text": [
      "Class distribution: Counter({1: 2775, 0: 1121})\n"
     ]
    }
   ],
   "source": [
    "# Counting positive and negative samples to determine class distribution\n",
    "\n",
    "from collections import Counter\n",
    "\n",
    "labels = [training_dataset._parse_label(fname) for fname in training_dataset.img_paths]\n",
    "print(\"Class distribution:\", Counter(labels))\n",
    "\n",
    "# Weight formula\n",
    "pos_count = 2775\n",
    "neg_count = 1121\n",
    "pos_weight = torch.tensor([1.0 / (pos_count / (pos_count + neg_count))]).to(device)"
   ]
  },
  {
   "cell_type": "code",
   "execution_count": null,
   "metadata": {},
   "outputs": [],
   "source": [
    "# Define the validation dataset size \n",
    "val_size = int(0.2 * len(training_dataset)) # 20% of training data\n",
    "train_size = len(training_dataset) - val_size \n",
    "\n",
    "train_data, val_data = random_split(training_dataset, [train_size, val_size])\n",
    "\n",
    "# DataLoader creation\n",
    "train_loader = DataLoader(\n",
    "    train_data,\n",
    "    batch_size = batch_size,\n",
    "    shuffle = True,\n",
    "    num_workers = 0,\n",
    ")\n",
    "\n",
    "val_loader = DataLoader(\n",
    "    val_data,\n",
    "    batch_size = batch_size,\n",
    "    shuffle = False,\n",
    "    num_workers = 0,\n",
    ")\n",
    "\n",
    "test_loader = DataLoader(\n",
    "    testing_dataset,\n",
    "    batch_size = batch_size,\n",
    "    shuffle = False,\n",
    "    num_workers = 0,\n",
    ")"
   ]
  },
  {
   "cell_type": "markdown",
   "metadata": {},
   "source": [
    "LeNet-Based Model"
   ]
  },
  {
   "cell_type": "code",
   "execution_count": null,
   "metadata": {},
   "outputs": [],
   "source": [
    "class LeNet(nn.Module):\n",
    "    def __init__(self):\n",
    "        super(LeNet, self).__init__()\n",
    "        \n",
    "        self.conv_layer = nn.Sequential(\n",
    "            nn.Conv2d(in_channels = 3, out_channels = 6, kernel_size = 5, stride = 1, padding = 2),  \n",
    "            nn.ReLU(),\n",
    "            nn.MaxPool2d(kernel_size = 2, stride = 2),  \n",
    "\n",
    "            nn.Conv2d(6, 16, kernel_size = 5),  \n",
    "            nn.ReLU(),\n",
    "            nn.MaxPool2d(kernel_size = 2, stride = 2)  \n",
    "        )\n",
    "        \n",
    "        self.fc_layer = nn.Sequential(\n",
    "            nn.Flatten(),  \n",
    "            nn.Linear(16 * 72 * 72, 120),\n",
    "            nn.ReLU(),\n",
    "            nn.Linear(120, 84),\n",
    "            nn.ReLU(),\n",
    "            nn.Linear(84, 1), \n",
    "            \n",
    "        )\n",
    "\n",
    "    def forward(self, x):\n",
    "        x = self.conv_layer(x)\n",
    "        x = self.fc_layer(x)\n",
    "        return x"
   ]
  },
  {
   "cell_type": "code",
   "execution_count": 15,
   "metadata": {},
   "outputs": [
    {
     "name": "stdout",
     "output_type": "stream",
     "text": [
      "LeNet(\n",
      "  (conv_layer): Sequential(\n",
      "    (0): Conv2d(3, 6, kernel_size=(5, 5), stride=(1, 1), padding=(2, 2))\n",
      "    (1): ReLU()\n",
      "    (2): MaxPool2d(kernel_size=2, stride=2, padding=0, dilation=1, ceil_mode=False)\n",
      "    (3): Conv2d(6, 16, kernel_size=(5, 5), stride=(1, 1))\n",
      "    (4): ReLU()\n",
      "    (5): MaxPool2d(kernel_size=2, stride=2, padding=0, dilation=1, ceil_mode=False)\n",
      "  )\n",
      "  (fc_layer): Sequential(\n",
      "    (0): Flatten(start_dim=1, end_dim=-1)\n",
      "    (1): Linear(in_features=82944, out_features=120, bias=True)\n",
      "    (2): ReLU()\n",
      "    (3): Linear(in_features=120, out_features=84, bias=True)\n",
      "    (4): ReLU()\n",
      "    (5): Linear(in_features=84, out_features=1, bias=True)\n",
      "  )\n",
      ")\n"
     ]
    }
   ],
   "source": [
    "LeNetmodel = LeNet().to(device)\n",
    "print(LeNetmodel)"
   ]
  },
  {
   "cell_type": "code",
   "execution_count": 16,
   "metadata": {},
   "outputs": [
    {
     "name": "stdout",
     "output_type": "stream",
     "text": [
      "Epoch 1/20, Loss: 0.5492\n",
      "Epoch 2/20, Loss: 0.5122\n",
      "Epoch 3/20, Loss: 0.4997\n",
      "Epoch 4/20, Loss: 0.4890\n",
      "Epoch 5/20, Loss: 0.4842\n",
      "Epoch 6/20, Loss: 0.4892\n",
      "Epoch 7/20, Loss: 0.4780\n",
      "Epoch 8/20, Loss: 0.4724\n",
      "Epoch 9/20, Loss: 0.4675\n",
      "Epoch 10/20, Loss: 0.4681\n",
      "Epoch 11/20, Loss: 0.4612\n",
      "Epoch 12/20, Loss: 0.4551\n",
      "Epoch 13/20, Loss: 0.4535\n",
      "Epoch 14/20, Loss: 0.4478\n",
      "Epoch 15/20, Loss: 0.4472\n",
      "Epoch 16/20, Loss: 0.4429\n",
      "Epoch 17/20, Loss: 0.4367\n",
      "Epoch 18/20, Loss: 0.4260\n",
      "Epoch 19/20, Loss: 0.4132\n",
      "Epoch 20/20, Loss: 0.4023\n"
     ]
    }
   ],
   "source": [
    "LeNetmodel.train()\n",
    "\n",
    "optimizer = torch.optim.Adam(LeNetmodel.parameters(), lr = 0.0001)\n",
    "loss_fn = nn.BCEWithLogitsLoss(pos_weight = pos_weight)\n",
    "\n",
    "# Training loop\n",
    "losses = []\n",
    "for epoch in range(n_epochs):\n",
    "    running_loss = 0\n",
    "    for i, (images, labels) in enumerate(train_loader):\n",
    "        images = images.to(device)\n",
    "        labels = labels.to(device)\n",
    "        \n",
    "        optimizer.zero_grad()\n",
    "        predictions = LeNetmodel(images)\n",
    "        loss = loss_fn(predictions, labels.float().view(-1, 1))\n",
    "        losses.append(loss.item())\n",
    "        loss.backward()\n",
    "        optimizer.step()\n",
    "        running_loss += loss.item()\n",
    "    \n",
    "    # Report epochs\n",
    "    avg_loss = running_loss / len(training_loader)\n",
    "    losses.append(avg_loss)  # append only one value per epoch\n",
    "    print(f\"Epoch {epoch+1}/{n_epochs}, Loss: {avg_loss:.4f}\")"
   ]
  },
  {
   "cell_type": "code",
   "execution_count": 17,
   "metadata": {},
   "outputs": [
    {
     "data": {
      "text/plain": [
       "[<matplotlib.lines.Line2D at 0x1d48622ce90>]"
      ]
     },
     "execution_count": 17,
     "metadata": {},
     "output_type": "execute_result"
    },
    {
     "data": {
      "image/png": "[encoded data removed]",
      "text/plain": [
       "<Figure size 640x480 with 1 Axes>"
      ]
     },
     "metadata": {},
     "output_type": "display_data"
    }
   ],
   "source": [
    "# Loss Plot\n",
    "\n",
    "fig, ax = plt.subplots()\n",
    "ax.plot(losses)"
   ]
  },
  {
   "cell_type": "code",
   "execution_count": 18,
   "metadata": {},
   "outputs": [
    {
     "name": "stdout",
     "output_type": "stream",
     "text": [
      "train\n",
      "accuracy = 0.8312479948668592\n",
      "precision = 0.9464004203888597\n",
      "recall = 0.809438202247191\n",
      "roc auc = 0.9399077946289112\n",
      "\n",
      "validation\n",
      "accuracy = 0.7060333761232349\n",
      "precision = 0.8378947368421052\n",
      "recall = 0.7236363636363636\n",
      "roc auc = 0.778356490670901\n"
     ]
    }
   ],
   "source": [
    "LeNetmodel.eval()\n",
    "\n",
    "\n",
    "# Training evaluation\n",
    "y = []\n",
    "yhat = []\n",
    "for images, labels in train_loader:\n",
    "    images = images.to(device).float()\n",
    "    labels = labels.cpu().numpy().tolist()\n",
    "    predictions = LeNetmodel(images).cpu().detach().numpy().tolist()\n",
    "\n",
    "    y.extend(labels)\n",
    "    yhat.extend(predictions)\n",
    "\n",
    "print(\"train\")\n",
    "print(\"accuracy =\", accuracy_score(y, np.array(yhat) > 0.5))\n",
    "print(\"precision =\", precision_score(y, np.array(yhat) > 0.5))\n",
    "print(\"recall =\", recall_score(y, np.array(yhat) > 0.5))\n",
    "print(\"roc auc =\", roc_auc_score(y, yhat))\n",
    "\n",
    "# Validation evaluation\n",
    "y = []\n",
    "yhat = []\n",
    "for images, labels in val_loader:\n",
    "    images = images.to(device).float()\n",
    "    labels = labels.cpu().numpy().tolist()\n",
    "    predictions = LeNetmodel(images).cpu().detach().numpy().tolist()\n",
    "\n",
    "    y.extend(labels)\n",
    "    yhat.extend(predictions)\n",
    "\n",
    "print(\"\\nvalidation\")\n",
    "print(\"accuracy =\", accuracy_score(y, np.array(yhat) > 0.5))\n",
    "print(\"precision =\", precision_score(y, np.array(yhat) > 0.5))\n",
    "print(\"recall =\", recall_score(y, np.array(yhat) > 0.5))\n",
    "print(\"roc auc =\", roc_auc_score(y, yhat))"
   ]
  },
  {
   "cell_type": "markdown",
   "metadata": {},
   "source": [
    "AlexNet-Based Model"
   ]
  },
  {
   "cell_type": "code",
   "execution_count": null,
   "metadata": {},
   "outputs": [],
   "source": [
    "class AlexNet_model(nn.Module):\n",
    "    def __init__(self):\n",
    "        super(AlexNet_model, self).__init__()\n",
    "        self.features = nn.Sequential(\n",
    "            nn.Conv2d(3, 64, kernel_size = 11, stride = 4, padding = 2),  \n",
    "            nn.ReLU(inplace = True),\n",
    "            nn.MaxPool2d(kernel_size = 3, stride = 2),  \n",
    "            \n",
    "            nn.Conv2d(64, 192, kernel_size = 5, padding = 2), \n",
    "            nn.ReLU(inplace=True),\n",
    "            nn.MaxPool2d(kernel_size = 3, stride = 2),  \n",
    "            \n",
    "            nn.Conv2d(192, 384, kernel_size = 3, padding = 1),  \n",
    "            nn.ReLU(inplace = True),\n",
    "            nn.Conv2d(384, 256, kernel_size = 3, padding = 1),  \n",
    "            nn.ReLU(inplace = True),\n",
    "            nn.Conv2d(256, 256, kernel_size = 3, padding = 1),  \n",
    "            nn.ReLU(inplace = True),\n",
    "            nn.MaxPool2d(kernel_size = 3, stride = 2)  \n",
    "        )\n",
    "        \n",
    "        self.classifier = nn.Sequential(\n",
    "            nn.Dropout(),\n",
    "            nn.Linear(256 * 8 * 8, 4096),\n",
    "            nn.ReLU(inplace=True),\n",
    "            nn.Dropout(),\n",
    "            nn.Linear(4096, 4096),\n",
    "            nn.ReLU(inplace=True),\n",
    "            nn.Linear(4096, 1)  \n",
    "        )\n",
    "\n",
    "    def forward(self, x):\n",
    "        x = self.features(x)\n",
    "        x = x.view(x.size(0), -1)\n",
    "        x = self.classifier(x)\n",
    "        return x "
   ]
  },
  {
   "cell_type": "code",
   "execution_count": 20,
   "metadata": {},
   "outputs": [
    {
     "name": "stdout",
     "output_type": "stream",
     "text": [
      "AlexNet_model(\n",
      "  (features): Sequential(\n",
      "    (0): Conv2d(3, 64, kernel_size=(11, 11), stride=(4, 4), padding=(2, 2))\n",
      "    (1): ReLU(inplace=True)\n",
      "    (2): MaxPool2d(kernel_size=3, stride=2, padding=0, dilation=1, ceil_mode=False)\n",
      "    (3): Conv2d(64, 192, kernel_size=(5, 5), stride=(1, 1), padding=(2, 2))\n",
      "    (4): ReLU(inplace=True)\n",
      "    (5): MaxPool2d(kernel_size=3, stride=2, padding=0, dilation=1, ceil_mode=False)\n",
      "    (6): Conv2d(192, 384, kernel_size=(3, 3), stride=(1, 1), padding=(1, 1))\n",
      "    (7): ReLU(inplace=True)\n",
      "    (8): Conv2d(384, 256, kernel_size=(3, 3), stride=(1, 1), padding=(1, 1))\n",
      "    (9): ReLU(inplace=True)\n",
      "    (10): Conv2d(256, 256, kernel_size=(3, 3), stride=(1, 1), padding=(1, 1))\n",
      "    (11): ReLU(inplace=True)\n",
      "    (12): MaxPool2d(kernel_size=3, stride=2, padding=0, dilation=1, ceil_mode=False)\n",
      "  )\n",
      "  (classifier): Sequential(\n",
      "    (0): Dropout(p=0.5, inplace=False)\n",
      "    (1): Linear(in_features=16384, out_features=4096, bias=True)\n",
      "    (2): ReLU(inplace=True)\n",
      "    (3): Dropout(p=0.5, inplace=False)\n",
      "    (4): Linear(in_features=4096, out_features=4096, bias=True)\n",
      "    (5): ReLU(inplace=True)\n",
      "    (6): Linear(in_features=4096, out_features=1, bias=True)\n",
      "  )\n",
      ")\n"
     ]
    }
   ],
   "source": [
    "alexnet_model = AlexNet_model().to(device)\n",
    "print(alexnet_model)"
   ]
  },
  {
   "cell_type": "code",
   "execution_count": 21,
   "metadata": {},
   "outputs": [
    {
     "name": "stdout",
     "output_type": "stream",
     "text": [
      "Epoch 1/20, Loss: 0.5771\n",
      "Epoch 2/20, Loss: 0.5130\n",
      "Epoch 3/20, Loss: 0.4698\n",
      "Epoch 4/20, Loss: 0.4668\n",
      "Epoch 5/20, Loss: 0.4650\n",
      "Epoch 6/20, Loss: 0.4599\n",
      "Epoch 7/20, Loss: 0.4648\n",
      "Epoch 8/20, Loss: 0.4560\n",
      "Epoch 9/20, Loss: 0.4577\n",
      "Epoch 10/20, Loss: 0.4581\n",
      "Epoch 11/20, Loss: 0.4528\n",
      "Epoch 12/20, Loss: 0.4566\n",
      "Epoch 13/20, Loss: 0.4531\n",
      "Epoch 14/20, Loss: 0.4505\n",
      "Epoch 15/20, Loss: 0.4528\n",
      "Epoch 16/20, Loss: 0.4533\n",
      "Epoch 17/20, Loss: 0.4485\n",
      "Epoch 18/20, Loss: 0.4502\n",
      "Epoch 19/20, Loss: 0.4499\n",
      "Epoch 20/20, Loss: 0.4450\n"
     ]
    }
   ],
   "source": [
    "alexnet_model.train()\n",
    "\n",
    "optimizer = torch.optim.Adam(alexnet_model.parameters(), lr=0.00001)\n",
    "loss_fn = nn.BCEWithLogitsLoss(pos_weight = pos_weight)\n",
    "\n",
    "# Training loop\n",
    "losses = []\n",
    "for epoch in range(n_epochs):\n",
    "    running_loss = 0\n",
    "    for i, (images, labels) in enumerate(train_loader):\n",
    "        images = images.to(device)\n",
    "        labels = labels.to(device)\n",
    "        \n",
    "        optimizer.zero_grad()\n",
    "        predictions = alexnet_model(images)\n",
    "        loss = loss_fn(predictions, labels.float().view(-1, 1))\n",
    "        \n",
    "        loss.backward()\n",
    "        optimizer.step()\n",
    "        running_loss += loss.item()\n",
    "    \n",
    "    # Report epochs\n",
    "    avg_loss = running_loss / len(training_loader)\n",
    "    losses.append(avg_loss)  # append only one value per epoch\n",
    "    print(f\"Epoch {epoch+1}/{n_epochs}, Loss: {avg_loss:.4f}\")"
   ]
  },
  {
   "cell_type": "code",
   "execution_count": 22,
   "metadata": {},
   "outputs": [
    {
     "data": {
      "text/plain": [
       "[<matplotlib.lines.Line2D at 0x1d486386ab0>]"
      ]
     },
     "execution_count": 22,
     "metadata": {},
     "output_type": "execute_result"
    },
    {
     "data": {
      "image/png": "[encoded data removed]",
      "text/plain": [
       "<Figure size 640x480 with 1 Axes>"
      ]
     },
     "metadata": {},
     "output_type": "display_data"
    }
   ],
   "source": [
    "fig, ax = plt.subplots()\n",
    "ax.plot(losses)"
   ]
  },
  {
   "cell_type": "code",
   "execution_count": 23,
   "metadata": {},
   "outputs": [
    {
     "name": "stdout",
     "output_type": "stream",
     "text": [
      "train\n",
      "accuracy = 0.712864934231633\n",
      "precision = 0.7873811581676751\n",
      "recall = 0.818876404494382\n",
      "roc auc = 0.7692608454678288\n",
      "\n",
      "validation\n",
      "accuracy = 0.7098844672657253\n",
      "precision = 0.78125\n",
      "recall = 0.8181818181818182\n",
      "roc auc = 0.7762445414847161\n"
     ]
    }
   ],
   "source": [
    "alexnet_model.eval()\n",
    "\n",
    "\n",
    "# Training evaluation\n",
    "y = []\n",
    "yhat = []\n",
    "for images, labels in train_loader:\n",
    "    images = images.to(device).float()\n",
    "    labels = labels.cpu().numpy().tolist()\n",
    "    predictions = alexnet_model(images).cpu().detach().numpy().tolist()\n",
    "\n",
    "    y.extend(labels)\n",
    "    yhat.extend(predictions)\n",
    "\n",
    "print(\"train\")\n",
    "print(\"accuracy =\", accuracy_score(y, np.array(yhat) > 0.5))\n",
    "print(\"precision =\", precision_score(y, np.array(yhat) > 0.5))\n",
    "print(\"recall =\", recall_score(y, np.array(yhat) > 0.5))\n",
    "print(\"roc auc =\", roc_auc_score(y, yhat))\n",
    "\n",
    "# Validation evaluation\n",
    "y = []\n",
    "yhat = []\n",
    "for images, labels in val_loader:\n",
    "    images = images.to(device).float()\n",
    "    labels = labels.cpu().numpy().tolist()\n",
    "    predictions = alexnet_model(images).cpu().detach().numpy().tolist()\n",
    "\n",
    "    y.extend(labels)\n",
    "    yhat.extend(predictions)\n",
    "\n",
    "print(\"\\nvalidation\")\n",
    "print(\"accuracy =\", accuracy_score(y, np.array(yhat) > 0.5))\n",
    "print(\"precision =\", precision_score(y, np.array(yhat) > 0.5))\n",
    "print(\"recall =\", recall_score(y, np.array(yhat) > 0.5))\n",
    "print(\"roc auc =\", roc_auc_score(y, yhat))"
   ]
  },
  {
   "cell_type": "markdown",
   "metadata": {},
   "source": [
    "miniHAHNet with Inception Block Model"
   ]
  },
  {
   "cell_type": "code",
   "execution_count": null,
   "metadata": {},
   "outputs": [],
   "source": [
    "class InceptionBlock(nn.Module):\n",
    "    def __init__(self, in_channels):\n",
    "        super(InceptionBlock, self).__init__()\n",
    "        # 1x1 conv branch\n",
    "        self.branch1 = nn.Conv2d(in_channels, 32, kernel_size=1)\n",
    "\n",
    "        # 1x1 conv -> 3x3 conv branch\n",
    "        self.branch2 = nn.Sequential(\n",
    "            nn.Conv2d(in_channels, 32, kernel_size=1),\n",
    "            nn.ReLU(inplace = True),\n",
    "            nn.Conv2d(32, 48, kernel_size = 3, padding = 1)\n",
    "        )\n",
    "\n",
    "        # 1x1 conv -> 5x5 conv branch\n",
    "        self.branch3 = nn.Sequential(\n",
    "            nn.Conv2d(in_channels, 16, kernel_size=1),\n",
    "            nn.ReLU(inplace = True),\n",
    "            nn.Conv2d(16, 24, kernel_size = 5, padding = 2)\n",
    "        )\n",
    "\n",
    "        # 3x3 maxpool -> 1x1 conv branch\n",
    "        self.branch4 = nn.Sequential(\n",
    "            nn.MaxPool2d(kernel_size = 3, stride = 1, padding = 1),\n",
    "            nn.Conv2d(in_channels, 16, kernel_size = 1)\n",
    "        )\n",
    "\n",
    "    def forward(self, x):\n",
    "        branch1 = self.branch1(x)\n",
    "        branch2 = self.branch2(x)\n",
    "        branch3 = self.branch3(x)\n",
    "        branch4 = self.branch4(x)\n",
    "        outputs = torch.cat([branch1, branch2, branch3, branch4], dim = 1)\n",
    "        return outputs\n",
    "\n",
    "class MiniHAHNet(nn.Module):\n",
    "    def __init__(self):\n",
    "        super(MiniHAHNet, self).__init__()\n",
    "        self.inception = InceptionBlock(in_channels = 3)  \n",
    "\n",
    "        self.features = nn.Sequential(\n",
    "            nn.Conv2d(120, 64, kernel_size=3, padding = 1),  # 120 channels from Inception output\n",
    "            nn.ReLU(inplace=True),\n",
    "            nn.MaxPool2d(kernel_size = 2, stride = 2),\n",
    "            \n",
    "            nn.Conv2d(64, 128, kernel_size = 3, padding = 1),\n",
    "            nn.ReLU(inplace = True),\n",
    "            nn.MaxPool2d(kernel_size = 2, stride = 2)\n",
    "        )\n",
    "\n",
    "        self.classifier = nn.Sequential(\n",
    "            nn.Dropout(),\n",
    "            nn.Linear(128 * 74 * 74, 512),\n",
    "            nn.ReLU(inplace = True),\n",
    "            nn.Dropout(),\n",
    "            nn.Linear(512, 1)  # Binary classification\n",
    "        )\n",
    "\n",
    "    def forward(self, x):\n",
    "        x = self.inception(x)\n",
    "        x = self.features(x)\n",
    "        x = x.view(x.size(0), -1)\n",
    "        x = self.classifier(x)\n",
    "        return x"
   ]
  },
  {
   "cell_type": "code",
   "execution_count": 14,
   "metadata": {},
   "outputs": [
    {
     "name": "stdout",
     "output_type": "stream",
     "text": [
      "MiniHAHNet(\n",
      "  (inception): InceptionBlock(\n",
      "    (branch1): Conv2d(3, 32, kernel_size=(1, 1), stride=(1, 1))\n",
      "    (branch2): Sequential(\n",
      "      (0): Conv2d(3, 32, kernel_size=(1, 1), stride=(1, 1))\n",
      "      (1): ReLU(inplace=True)\n",
      "      (2): Conv2d(32, 48, kernel_size=(3, 3), stride=(1, 1), padding=(1, 1))\n",
      "    )\n",
      "    (branch3): Sequential(\n",
      "      (0): Conv2d(3, 16, kernel_size=(1, 1), stride=(1, 1))\n",
      "      (1): ReLU(inplace=True)\n",
      "      (2): Conv2d(16, 24, kernel_size=(5, 5), stride=(1, 1), padding=(2, 2))\n",
      "    )\n",
      "    (branch4): Sequential(\n",
      "      (0): MaxPool2d(kernel_size=3, stride=1, padding=1, dilation=1, ceil_mode=False)\n",
      "      (1): Conv2d(3, 16, kernel_size=(1, 1), stride=(1, 1))\n",
      "    )\n",
      "  )\n",
      "  (features): Sequential(\n",
      "    (0): Conv2d(120, 64, kernel_size=(3, 3), stride=(1, 1), padding=(1, 1))\n",
      "    (1): ReLU(inplace=True)\n",
      "    (2): MaxPool2d(kernel_size=2, stride=2, padding=0, dilation=1, ceil_mode=False)\n",
      "    (3): Conv2d(64, 128, kernel_size=(3, 3), stride=(1, 1), padding=(1, 1))\n",
      "    (4): ReLU(inplace=True)\n",
      "    (5): MaxPool2d(kernel_size=2, stride=2, padding=0, dilation=1, ceil_mode=False)\n",
      "  )\n",
      "  (classifier): Sequential(\n",
      "    (0): Dropout(p=0.5, inplace=False)\n",
      "    (1): Linear(in_features=700928, out_features=512, bias=True)\n",
      "    (2): ReLU(inplace=True)\n",
      "    (3): Dropout(p=0.5, inplace=False)\n",
      "    (4): Linear(in_features=512, out_features=1, bias=True)\n",
      "  )\n",
      ")\n"
     ]
    }
   ],
   "source": [
    "miniHAHNet_model = MiniHAHNet().to(device)\n",
    "print(miniHAHNet_model)"
   ]
  },
  {
   "cell_type": "code",
   "execution_count": 15,
   "metadata": {},
   "outputs": [
    {
     "name": "stdout",
     "output_type": "stream",
     "text": [
      "Epoch 1/20, Loss: 0.5471\n",
      "Epoch 2/20, Loss: 0.5196\n",
      "Epoch 3/20, Loss: 0.5117\n",
      "Epoch 4/20, Loss: 0.4999\n",
      "Epoch 5/20, Loss: 0.4943\n",
      "Epoch 6/20, Loss: 0.4849\n",
      "Epoch 7/20, Loss: 0.4820\n",
      "Epoch 8/20, Loss: 0.4729\n",
      "Epoch 9/20, Loss: 0.4742\n",
      "Epoch 10/20, Loss: 0.4689\n",
      "Epoch 11/20, Loss: 0.4649\n",
      "Epoch 12/20, Loss: 0.4629\n",
      "Epoch 13/20, Loss: 0.4573\n",
      "Epoch 14/20, Loss: 0.4552\n",
      "Epoch 15/20, Loss: 0.4538\n",
      "Epoch 16/20, Loss: 0.4467\n",
      "Epoch 17/20, Loss: 0.4503\n",
      "Epoch 18/20, Loss: 0.4508\n",
      "Epoch 19/20, Loss: 0.4438\n",
      "Epoch 20/20, Loss: 0.4417\n"
     ]
    }
   ],
   "source": [
    "miniHAHNet_model.train()\n",
    "\n",
    "optimizer = torch.optim.Adam(miniHAHNet_model.parameters(), lr=0.00001)\n",
    "loss_fn = nn.BCEWithLogitsLoss(pos_weight = pos_weight)\n",
    "\n",
    "losses = []\n",
    "for epoch in range(n_epochs):\n",
    "    running_loss = 0\n",
    "    for i, (images, labels) in enumerate(train_loader):\n",
    "        images = images.to(device)\n",
    "        labels = labels.to(device)\n",
    "\n",
    "        optimizer.zero_grad()\n",
    "        predictions = miniHAHNet_model(images)\n",
    "        loss = loss_fn(predictions, labels.float().view(-1, 1))\n",
    "\n",
    "        loss.backward()\n",
    "        optimizer.step()\n",
    "\n",
    "        running_loss += loss.item()\n",
    "\n",
    "    # Report epochs\n",
    "    avg_loss = running_loss / len(training_loader)\n",
    "    losses.append(avg_loss)  # append only one value per epoch\n",
    "    print(f\"Epoch {epoch+1}/{n_epochs}, Loss: {avg_loss:.4f}\")"
   ]
  },
  {
   "cell_type": "code",
   "execution_count": 16,
   "metadata": {},
   "outputs": [
    {
     "data": {
      "text/plain": [
       "[<matplotlib.lines.Line2D at 0x255254cae70>]"
      ]
     },
     "execution_count": 16,
     "metadata": {},
     "output_type": "execute_result"
    },
    {
     "data": {
      "image/png": "[encoded data removed]",
      "text/plain": [
       "<Figure size 640x480 with 1 Axes>"
      ]
     },
     "metadata": {},
     "output_type": "display_data"
    }
   ],
   "source": [
    "fig, ax = plt.subplots()\n",
    "ax.plot(losses)"
   ]
  },
  {
   "cell_type": "code",
   "execution_count": 17,
   "metadata": {},
   "outputs": [
    {
     "name": "stdout",
     "output_type": "stream",
     "text": [
      "train\n",
      "accuracy = 0.7189605389797883\n",
      "precision = 0.7188216039279869\n",
      "recall = 0.9923181201988251\n",
      "roc auc = 0.807777553395263\n",
      "\n",
      "validation\n",
      "accuracy = 0.72400513478819\n",
      "precision = 0.726797385620915\n",
      "recall = 0.9893238434163701\n",
      "roc auc = 0.8188989291044164\n"
     ]
    }
   ],
   "source": [
    "miniHAHNet_model.eval()\n",
    "\n",
    "\n",
    "# Training evaluation\n",
    "y = []\n",
    "yhat = []\n",
    "for images, labels in train_loader:\n",
    "    images = images.to(device).float()\n",
    "    labels = labels.cpu().numpy().tolist()\n",
    "    predictions = miniHAHNet_model(images).cpu().detach().numpy().tolist()\n",
    "\n",
    "    y.extend(labels)\n",
    "    yhat.extend(predictions)\n",
    "\n",
    "print(\"train\")\n",
    "print(\"accuracy =\", accuracy_score(y, np.array(yhat) > 0.5))\n",
    "print(\"precision =\", precision_score(y, np.array(yhat) > 0.5))\n",
    "print(\"recall =\", recall_score(y, np.array(yhat) > 0.5))\n",
    "print(\"roc auc =\", roc_auc_score(y, yhat))\n",
    "\n",
    "# Validation evaluation\n",
    "y = []\n",
    "yhat = []\n",
    "for images, labels in val_loader:\n",
    "    images = images.to(device).float()\n",
    "    labels = labels.cpu().numpy().tolist()\n",
    "    predictions = miniHAHNet_model(images).cpu().detach().numpy().tolist()\n",
    "\n",
    "    y.extend(labels)\n",
    "    yhat.extend(predictions)\n",
    "\n",
    "print(\"\\nvalidation\")\n",
    "print(\"accuracy =\", accuracy_score(y, np.array(yhat) > 0.5))\n",
    "print(\"precision =\", precision_score(y, np.array(yhat) > 0.5))\n",
    "print(\"recall =\", recall_score(y, np.array(yhat) > 0.5))\n",
    "print(\"roc auc =\", roc_auc_score(y, yhat))"
   ]
  }
 ],
 "metadata": {
  "kernelspec": {
   "display_name": ".venv",
   "language": "python",
   "name": "python3"
  },
  "language_info": {
   "codemirror_mode": {
    "name": "ipython",
    "version": 3
   },
   "file_extension": ".py",
   "mimetype": "text/x-python",
   "name": "python",
   "nbconvert_exporter": "python",
   "pygments_lexer": "ipython3",
   "version": "3.12.0"
  }
 },
 "nbformat": 4,
 "nbformat_minor": 2
}
